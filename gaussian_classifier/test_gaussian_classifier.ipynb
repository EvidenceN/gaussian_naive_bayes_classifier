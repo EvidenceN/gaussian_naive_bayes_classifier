{
 "metadata": {
  "language_info": {
   "codemirror_mode": {
    "name": "ipython",
    "version": 3
   },
   "file_extension": ".py",
   "mimetype": "text/x-python",
   "name": "python",
   "nbconvert_exporter": "python",
   "pygments_lexer": "ipython3",
   "version": "3.7.0-final"
  },
  "orig_nbformat": 2,
  "kernelspec": {
   "name": "python_defaultSpec_1597735813521",
   "display_name": "Python 3.7.0 64-bit ('MNNA': conda)"
  }
 },
 "nbformat": 4,
 "nbformat_minor": 2,
 "cells": [
  {
   "cell_type": "code",
   "execution_count": 1,
   "metadata": {},
   "outputs": [],
   "source": [
    "# testing to make sure the code works. \n",
    "\n",
    "from gaussian_classifier import gnb"
   ]
  },
  {
   "cell_type": "code",
   "execution_count": 2,
   "metadata": {},
   "outputs": [],
   "source": [
    "# creating dummy dataset\n",
    "\n",
    "import pandas as pd\n",
    "import numpy as np\n",
    "\n",
    "x_values = pd.DataFrame({\n",
    "    'height': [6, 5.92, 5.58, 5.92, 5, 5.5, 5.42, 5.75],\n",
    "    'weight': [180,190,170,165,100,150,130,150],\n",
    "    'foot': [12,11,12,10,6,8,7,9]\n",
    "})\n",
    "\n",
    "# 0 = male\n",
    "# 1 = female\n",
    "y = pd.Series([0,0,0,0,1,1,1,1])\n",
    "\n",
    "sample = pd.DataFrame({\n",
    "    'height': [6],\n",
    "    'weight': [130],\n",
    "    'foot': [8]\n",
    "})"
   ]
  },
  {
   "cell_type": "code",
   "execution_count": 4,
   "metadata": {},
   "outputs": [
    {
     "output_type": "execute_result",
     "data": {
      "text/plain": "   height  weight  foot\n0    6.00     180    12\n1    5.92     190    11\n2    5.58     170    12\n3    5.92     165    10\n4    5.00     100     6\n5    5.50     150     8\n6    5.42     130     7\n7    5.75     150     9",
      "text/html": "<div>\n<style scoped>\n    .dataframe tbody tr th:only-of-type {\n        vertical-align: middle;\n    }\n\n    .dataframe tbody tr th {\n        vertical-align: top;\n    }\n\n    .dataframe thead th {\n        text-align: right;\n    }\n</style>\n<table border=\"1\" class=\"dataframe\">\n  <thead>\n    <tr style=\"text-align: right;\">\n      <th></th>\n      <th>height</th>\n      <th>weight</th>\n      <th>foot</th>\n    </tr>\n  </thead>\n  <tbody>\n    <tr>\n      <th>0</th>\n      <td>6.00</td>\n      <td>180</td>\n      <td>12</td>\n    </tr>\n    <tr>\n      <th>1</th>\n      <td>5.92</td>\n      <td>190</td>\n      <td>11</td>\n    </tr>\n    <tr>\n      <th>2</th>\n      <td>5.58</td>\n      <td>170</td>\n      <td>12</td>\n    </tr>\n    <tr>\n      <th>3</th>\n      <td>5.92</td>\n      <td>165</td>\n      <td>10</td>\n    </tr>\n    <tr>\n      <th>4</th>\n      <td>5.00</td>\n      <td>100</td>\n      <td>6</td>\n    </tr>\n    <tr>\n      <th>5</th>\n      <td>5.50</td>\n      <td>150</td>\n      <td>8</td>\n    </tr>\n    <tr>\n      <th>6</th>\n      <td>5.42</td>\n      <td>130</td>\n      <td>7</td>\n    </tr>\n    <tr>\n      <th>7</th>\n      <td>5.75</td>\n      <td>150</td>\n      <td>9</td>\n    </tr>\n  </tbody>\n</table>\n</div>"
     },
     "metadata": {},
     "execution_count": 4
    }
   ],
   "source": [
    "x_values"
   ]
  },
  {
   "cell_type": "code",
   "execution_count": 5,
   "metadata": {},
   "outputs": [
    {
     "output_type": "execute_result",
     "data": {
      "text/plain": "0    0\n1    0\n2    0\n3    0\n4    1\n5    1\n6    1\n7    1\ndtype: int64"
     },
     "metadata": {},
     "execution_count": 5
    }
   ],
   "source": [
    "y"
   ]
  },
  {
   "cell_type": "code",
   "execution_count": 3,
   "metadata": {},
   "outputs": [],
   "source": [
    "# instantiating the class. \n",
    "\n",
    "gaussian_classifier = gnb()"
   ]
  },
  {
   "cell_type": "code",
   "execution_count": 4,
   "metadata": {},
   "outputs": [
    {
     "output_type": "execute_result",
     "data": {
      "text/plain": "<gaussian_classifier.gnb at 0x2735f1185f8>"
     },
     "metadata": {},
     "execution_count": 4
    }
   ],
   "source": [
    "# fit the test data above \n",
    "\n",
    "gaussian_classifier.fit(x_values, y)"
   ]
  },
  {
   "cell_type": "code",
   "execution_count": 5,
   "metadata": {},
   "outputs": [],
   "source": [
    "x_test = [6, 130, 8]"
   ]
  },
  {
   "cell_type": "code",
   "execution_count": 6,
   "metadata": {},
   "outputs": [
    {
     "output_type": "execute_result",
     "data": {
      "text/plain": "1"
     },
     "metadata": {},
     "execution_count": 6
    }
   ],
   "source": [
    "# use gaussian classifier to predict if our test data is male or female\n",
    "# 0 = male\n",
    "# 1 = female\n",
    "gaussian_classifier.predict(x_test)"
   ]
  },
  {
   "cell_type": "code",
   "execution_count": null,
   "metadata": {},
   "outputs": [],
   "source": [
    "# our classifier predicts 1 which corresponds to female. \n",
    "\n",
    "# this is also the answer that sklearn gaussian classifier got\n",
    "# this is also the same answer that wikipedia example got. \n",
    "# here is the wikipedia page for comparison https://en.wikipedia.org/wiki/Naive_Bayes_classifier#Examples\n"
   ]
  },
  {
   "cell_type": "code",
   "execution_count": 7,
   "metadata": {},
   "outputs": [],
   "source": [
    "# sklearn gaussian classifier comparison\n",
    "\n",
    "from sklearn.naive_bayes import GaussianNB"
   ]
  },
  {
   "cell_type": "code",
   "execution_count": 8,
   "metadata": {},
   "outputs": [],
   "source": [
    "# instantiate sklearn classifier\n",
    "skgnb = GaussianNB()"
   ]
  },
  {
   "cell_type": "code",
   "execution_count": 9,
   "metadata": {},
   "outputs": [
    {
     "output_type": "execute_result",
     "data": {
      "text/plain": "GaussianNB()"
     },
     "metadata": {},
     "execution_count": 9
    }
   ],
   "source": [
    "skgnb.fit(x_values, y)"
   ]
  },
  {
   "cell_type": "code",
   "execution_count": 11,
   "metadata": {},
   "outputs": [
    {
     "output_type": "execute_result",
     "data": {
      "text/plain": "array([1], dtype=int64)"
     },
     "metadata": {},
     "execution_count": 11
    }
   ],
   "source": [
    "skgnb.predict(sample)"
   ]
  },
  {
   "cell_type": "code",
   "execution_count": null,
   "metadata": {},
   "outputs": [],
   "source": [
    "# NOTE: sample and x_test above are the exact same thing, just in different \n",
    "# format. the format my classifier is expecting the test data in is not the same format sklearn classifier is expecting the test data in\n",
    "# my classifier expects a list, but sklearn classifier expects a dataframe."
   ]
  }
 ]
}